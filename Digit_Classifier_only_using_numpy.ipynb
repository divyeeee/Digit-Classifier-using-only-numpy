{
  "metadata": {
    "kernelspec": {
      "language": "python",
      "display_name": "Python 3",
      "name": "python3"
    },
    "language_info": {
      "name": "python",
      "version": "3.10.12",
      "mimetype": "text/x-python",
      "codemirror_mode": {
        "name": "ipython",
        "version": 3
      },
      "pygments_lexer": "ipython3",
      "nbconvert_exporter": "python",
      "file_extension": ".py"
    },
    "kaggle": {
      "accelerator": "none",
      "dataSources": [
        {
          "sourceId": 5196,
          "sourceType": "datasetVersion",
          "datasetId": 3147
        }
      ],
      "dockerImageVersionId": 30822,
      "isInternetEnabled": false,
      "language": "python",
      "sourceType": "notebook",
      "isGpuEnabled": false
    },
    "colab": {
      "name": "Digit-Classifier only using numpy",
      "provenance": [],
      "include_colab_link": true
    }
  },
  "nbformat_minor": 0,
  "nbformat": 4,
  "cells": [
    {
      "cell_type": "markdown",
      "metadata": {
        "id": "view-in-github",
        "colab_type": "text"
      },
      "source": [
        "<a href=\"https://colab.research.google.com/github/divyeeee/Digit-Classifier-using-only-numpy/blob/main/Digit_Classifier_only_using_numpy.ipynb\" target=\"_parent\"><img src=\"https://colab.research.google.com/assets/colab-badge.svg\" alt=\"Open In Colab\"/></a>"
      ]
    },
    {
      "source": [
        "# IMPORTANT: RUN THIS CELL IN ORDER TO IMPORT YOUR KAGGLE DATA SOURCES,\n",
        "# THEN FEEL FREE TO DELETE THIS CELL.\n",
        "# NOTE: THIS NOTEBOOK ENVIRONMENT DIFFERS FROM KAGGLE'S PYTHON\n",
        "# ENVIRONMENT SO THERE MAY BE MISSING LIBRARIES USED BY YOUR\n",
        "# NOTEBOOK.\n",
        "import kagglehub\n",
        "animatronbot_mnist_digit_recognizer_path = kagglehub.dataset_download('animatronbot/mnist-digit-recognizer')\n",
        "\n",
        "print('Data source import complete.')\n"
      ],
      "metadata": {
        "id": "oLNm8J6GlG91"
      },
      "cell_type": "code",
      "outputs": [],
      "execution_count": null
    },
    {
      "cell_type": "code",
      "source": [
        "import numpy as np\n",
        "import pandas as pd\n",
        "from matplotlib import pyplot as plt\n"
      ],
      "metadata": {
        "_uuid": "8f2839f25d086af736a60e9eeb907d3b93b6e0e5",
        "_cell_guid": "b1076dfc-b9ad-4769-8c92-a6c4dae69d19",
        "trusted": true,
        "execution": {
          "iopub.status.busy": "2024-12-29T08:04:11.434405Z",
          "iopub.execute_input": "2024-12-29T08:04:11.434926Z",
          "iopub.status.idle": "2024-12-29T08:04:11.835187Z",
          "shell.execute_reply.started": "2024-12-29T08:04:11.434881Z",
          "shell.execute_reply": "2024-12-29T08:04:11.834025Z"
        },
        "id": "hF5q9VVglG93"
      },
      "outputs": [],
      "execution_count": null
    },
    {
      "cell_type": "code",
      "source": [
        "data=pd.read_csv('/kaggle/input/mnist-digit-recognizer/train.csv')"
      ],
      "metadata": {
        "trusted": true,
        "execution": {
          "iopub.status.busy": "2024-12-29T08:04:15.674621Z",
          "iopub.execute_input": "2024-12-29T08:04:15.675281Z",
          "iopub.status.idle": "2024-12-29T08:04:19.443724Z",
          "shell.execute_reply.started": "2024-12-29T08:04:15.675241Z",
          "shell.execute_reply": "2024-12-29T08:04:19.442456Z"
        },
        "id": "us9MdvrVlG93"
      },
      "outputs": [],
      "execution_count": null
    },
    {
      "cell_type": "code",
      "source": [
        "data.head(5)"
      ],
      "metadata": {
        "trusted": true,
        "execution": {
          "iopub.status.busy": "2024-12-29T08:04:19.704839Z",
          "iopub.execute_input": "2024-12-29T08:04:19.705423Z",
          "iopub.status.idle": "2024-12-29T08:04:19.727129Z",
          "shell.execute_reply.started": "2024-12-29T08:04:19.705379Z",
          "shell.execute_reply": "2024-12-29T08:04:19.725669Z"
        },
        "id": "xfVU0NrUlG94"
      },
      "outputs": [],
      "execution_count": null
    },
    {
      "cell_type": "code",
      "source": [
        "data=np.array(data)\n",
        "print(data)"
      ],
      "metadata": {
        "trusted": true,
        "execution": {
          "iopub.status.busy": "2024-12-29T08:04:23.694527Z",
          "iopub.execute_input": "2024-12-29T08:04:23.695002Z",
          "iopub.status.idle": "2024-12-29T08:04:23.910157Z",
          "shell.execute_reply.started": "2024-12-29T08:04:23.694964Z",
          "shell.execute_reply": "2024-12-29T08:04:23.908801Z"
        },
        "id": "O91x6YL5lG95"
      },
      "outputs": [],
      "execution_count": null
    },
    {
      "cell_type": "code",
      "source": [
        "m,n=data.shape\n",
        "np.random.seed(42)\n",
        "np.random.shuffle(data)\n",
        "\n",
        "data_dev = data[0:1000].T\n",
        "Y_dev=data_dev[0]\n",
        "X_dev=data_dev[1:n]\n",
        "X_dev=X_dev/255\n",
        "\n",
        "data_train=data[1000:m].T\n",
        "Y_train=data_train[0]\n",
        "X_train=data_train[1:n]\n",
        "X_train=X_train/255\n",
        "print(Y_train)\n",
        "#Y_dev stores the labels that is the output\n",
        "#X_dev stores the pixel values\n",
        "#also dev--->test dataset i think\n"
      ],
      "metadata": {
        "trusted": true,
        "execution": {
          "iopub.status.busy": "2024-12-29T08:04:27.139665Z",
          "iopub.execute_input": "2024-12-29T08:04:27.14025Z",
          "iopub.status.idle": "2024-12-29T08:04:27.860899Z",
          "shell.execute_reply.started": "2024-12-29T08:04:27.140203Z",
          "shell.execute_reply": "2024-12-29T08:04:27.859627Z"
        },
        "id": "QQfHlz4slG96"
      },
      "outputs": [],
      "execution_count": null
    },
    {
      "cell_type": "code",
      "source": [
        "X_train.shape"
      ],
      "metadata": {
        "trusted": true,
        "execution": {
          "iopub.status.busy": "2024-12-28T21:06:56.459293Z",
          "iopub.execute_input": "2024-12-28T21:06:56.459586Z",
          "iopub.status.idle": "2024-12-28T21:06:56.465407Z",
          "shell.execute_reply.started": "2024-12-28T21:06:56.459547Z",
          "shell.execute_reply": "2024-12-28T21:06:56.464359Z"
        },
        "id": "yCj6j9yZlG96"
      },
      "outputs": [],
      "execution_count": null
    },
    {
      "cell_type": "code",
      "source": [
        "def init_params():\n",
        "    W1 = np.random.rand(10,784)-0.5\n",
        "    b1=np.random.rand(10,1)-0.5\n",
        "    W2= np.random.rand(10,10)-0.5\n",
        "    b2= np.random.rand(10,1)-0.5\n",
        "    return W1,b1,W2,b2\n",
        "\n",
        "def ReLU(Z):\n",
        "    return np.maximum(Z,0)\n",
        "\n",
        "def softmax(Z):\n",
        "    A=np.exp(Z)/sum(np.exp(Z))\n",
        "    return A\n",
        "\n",
        "def forward_prop(W1,b1,W2,b2,X):\n",
        "\n",
        "    Z1=W1.dot(X)+b1\n",
        "    A1=ReLU(Z1)\n",
        "    Z2=W2.dot(A1)+b2\n",
        "    A2=softmax(Z2)\n",
        "\n",
        "    return (Z1, A1, Z2, A2)\n",
        "\n",
        "def derivative_ReLU(Z):\n",
        "    return Z>0\n",
        "\n",
        "def one_hot(Y):\n",
        "    one_hot_Y = np.zeros((Y.size,Y.max() + 1))\n",
        "    one_hot_Y[np.arange(Y.size),Y]=1\n",
        "    one_hot_Y=one_hot_Y.T\n",
        "    return one_hot_Y\n",
        "\n",
        "def back_prop(Z1, A1, Z2, A2, W1,W2, X,Y):\n",
        "    m = Y.size\n",
        "    one_hot_Y = one_hot(Y)\n",
        "    dZ2 = A2 - one_hot_Y\n",
        "    dW2 = 1/m*dZ2.dot(A1.T)\n",
        "    db2 = 1/m*np.sum(dZ2)\n",
        "    dZ1 = W2.T.dot(dZ2) * derivative_ReLU(Z1)\n",
        "    dW1 = 1/m*dZ1.dot(X.T)\n",
        "    db1 = 1/m*np.sum(dZ1)\n",
        "\n",
        "    return dW1, db1, dW2, db2\n",
        "\n",
        "def update_params(W1, b1,W2,b2,dW1,db1,dW2,db2,alpha):\n",
        "    W1=W1-alpha*dW1\n",
        "\n",
        "    b1=b1-alpha*db1\n",
        "    W2=W2-alpha*dW2\n",
        "    b2=b2-alpha*db2\n",
        "\n",
        "    return W1,b1,W2,b2\n",
        "\n",
        "def get_predictions(A2):\n",
        "    ans=np.argmax(A2,0)\n",
        "    # print(\"hi2\",ans)\n",
        "    return ans\n",
        "\n",
        "def get_accuracy(predictions,Y):\n",
        "    # print(predictions, Y)\n",
        "    return np.sum(predictions==Y)/Y.size\n",
        "\n",
        "def gradient_descent(X,Y,iterations,alpha):\n",
        "    W1,b1,W2,b2 = init_params()\n",
        "    for i in range (iterations+1):\n",
        "        Z1,A1,Z2,A2=forward_prop(W1,b1,W2,b2,X)\n",
        "\n",
        "        dW1,db1,dW2,db2=back_prop(Z1, A1,Z2,A2,W1,W2,X,Y)\n",
        "\n",
        "        W1,b1,W2,b2=update_params(W1,b1,W2,b2,dW1,db1,dW2,db2,alpha)\n",
        "\n",
        "        if (i % 10==0):\n",
        "            print(\"Iterations : \",i)\n",
        "            prediction=get_predictions(A2)\n",
        "            print(\"Accuracy : \",get_accuracy(prediction,Y))\n",
        "\n",
        "    return W1,b1,W2,b2"
      ],
      "metadata": {
        "trusted": true,
        "execution": {
          "iopub.status.busy": "2024-12-29T08:08:34.620587Z",
          "iopub.execute_input": "2024-12-29T08:08:34.62103Z",
          "iopub.status.idle": "2024-12-29T08:08:34.63678Z",
          "shell.execute_reply.started": "2024-12-29T08:08:34.620993Z",
          "shell.execute_reply": "2024-12-29T08:08:34.635494Z"
        },
        "id": "oy38EEQ-lG97"
      },
      "outputs": [],
      "execution_count": null
    },
    {
      "cell_type": "code",
      "source": [
        "W1,b1,W2,b2=gradient_descent(X_train,Y_train,500,0.1)"
      ],
      "metadata": {
        "trusted": true,
        "execution": {
          "iopub.status.busy": "2024-12-29T08:05:03.045162Z",
          "iopub.execute_input": "2024-12-29T08:05:03.045588Z",
          "iopub.status.idle": "2024-12-29T08:06:05.94441Z",
          "shell.execute_reply.started": "2024-12-29T08:05:03.045557Z",
          "shell.execute_reply": "2024-12-29T08:06:05.941903Z"
        },
        "id": "QopM48LHlG98"
      },
      "outputs": [],
      "execution_count": null
    },
    {
      "cell_type": "code",
      "source": [
        "def make_predictions(X,W1,b1,W2,b2):\n",
        "    _,_,_,A2=forward_prop(W1,b1,W2,b2,X)\n",
        "    predictions=get_predictions(A2)\n",
        "    return predictions\n",
        "\n",
        "def test_prediction(index, W1,b1,W2,b2):\n",
        "    current_image=X_train[:,index,None]\n",
        "    prediction=make_predictions(X_train[:, index, None],W1,b1,W2,b2)\n",
        "    label=Y_train[index]\n",
        "    print(\"Prediction: \",prediction)\n",
        "    print(\"Label : \",label)\n",
        "\n",
        "    current_image=current_image.reshape((28,28))*255\n",
        "    plt.gray()\n",
        "    plt.imshow(current_image,interpolation='nearest')\n",
        "    plt.show()"
      ],
      "metadata": {
        "trusted": true,
        "execution": {
          "iopub.status.busy": "2024-12-29T08:07:31.032286Z",
          "iopub.execute_input": "2024-12-29T08:07:31.032709Z",
          "iopub.status.idle": "2024-12-29T08:07:31.040287Z",
          "shell.execute_reply.started": "2024-12-29T08:07:31.032679Z",
          "shell.execute_reply": "2024-12-29T08:07:31.038882Z"
        },
        "id": "zQfQa0sqlG99"
      },
      "outputs": [],
      "execution_count": null
    },
    {
      "cell_type": "code",
      "source": [
        "print(W1.shape,b1.shape,W2.shape,b2.shape)\n",
        "test_prediction(0, W1, b1, W2, b2)\n",
        "test_prediction(1, W1, b1, W2, b2)\n",
        "test_prediction(2, W1, b1, W2, b2)\n",
        "test_prediction(3, W1, b1, W2, b2)"
      ],
      "metadata": {
        "trusted": true,
        "execution": {
          "iopub.status.busy": "2024-12-29T08:06:45.344846Z",
          "iopub.execute_input": "2024-12-29T08:06:45.345357Z",
          "iopub.status.idle": "2024-12-29T08:06:46.300763Z",
          "shell.execute_reply.started": "2024-12-29T08:06:45.345311Z",
          "shell.execute_reply": "2024-12-29T08:06:46.299785Z"
        },
        "id": "ZUSC3c2YlG9-"
      },
      "outputs": [],
      "execution_count": null
    },
    {
      "cell_type": "code",
      "source": [
        "dev_predictions=make_predictions(X_dev,W1,b1,W2,b2)\n",
        "get_accuracy(dev_predictions, Y_dev)"
      ],
      "metadata": {
        "trusted": true,
        "execution": {
          "iopub.status.busy": "2024-12-29T08:08:44.759472Z",
          "iopub.execute_input": "2024-12-29T08:08:44.760235Z",
          "iopub.status.idle": "2024-12-29T08:08:44.777708Z",
          "shell.execute_reply.started": "2024-12-29T08:08:44.76018Z",
          "shell.execute_reply": "2024-12-29T08:08:44.776287Z"
        },
        "id": "FBWJM1-ClG9-"
      },
      "outputs": [],
      "execution_count": null
    }
  ]
}